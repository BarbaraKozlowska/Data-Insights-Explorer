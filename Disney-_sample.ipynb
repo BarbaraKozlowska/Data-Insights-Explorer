{
 "cells": [
  {
   "cell_type": "markdown",
   "id": "2e3b678b",
   "metadata": {},
   "source": [
    "Below is file analysis using Python, that answers the following four questions:\n",
    "\n",
    "\n",
    "1. What are the most common languages?\n",
    "\n",
    "2. Which countries have the largest reach?\n",
    "\n",
    "3. Which sources provide the highest return on marketing investments?\n",
    "\n",
    "3. Draw a sentiment chart over time. For days with the highest negative sentiment values, try to determine what happened then."
   ]
  },
  {
   "cell_type": "code",
   "execution_count": 1,
   "id": "0b2c1c9b",
   "metadata": {
    "scrolled": false
   },
   "outputs": [
    {
     "name": "stdout",
     "output_type": "stream",
     "text": [
      "      Unnamed: 0         created_date  \\\n",
      "0              0  2023-10-05 22:00:01   \n",
      "1              1  2023-10-25 19:40:51   \n",
      "2              2  2023-10-19 17:46:02   \n",
      "3              3  2023-10-24 14:49:35   \n",
      "4              4  2023-10-25 15:48:29   \n",
      "...          ...                  ...   \n",
      "4791        4791  2023-10-01 00:59:40   \n",
      "4792        4792  2023-10-01 00:49:56   \n",
      "4793        4793  2023-10-01 00:27:07   \n",
      "4794        4794  2023-10-01 00:16:56   \n",
      "4795        4795  2023-10-01 00:09:59   \n",
      "\n",
      "                                                    url  \\\n",
      "0            https://www.disney.pl/marvel-w-disney-plus   \n",
      "1     https://satkurier.pl/news/232301/el-clsico-na-...   \n",
      "2     https://malowazne.wordpress.com/2023/10/19/klo...   \n",
      "3     http://screenlovers.pl/swiat-odpremiumizowany-...   \n",
      "4     https://nasz.orange.pl/t5/Telewizja/Problem-z-...   \n",
      "...                                                 ...   \n",
      "4791  http://twitter.com/pako_x2/statuses/1708255317...   \n",
      "4792  http://twitter.com/28tommolovr/statuses/170825...   \n",
      "4793  http://twitter.com/RikkaSatoroshi/statuses/170...   \n",
      "4794  http://twitter.com/SzczukiewiczBAR/statuses/17...   \n",
      "4795  http://twitter.com/SzczukiewiczBAR/statuses/17...   \n",
      "\n",
      "                                                  title language author_name  \\\n",
      "0     Marvel w Disney+: filmy, seriale, daty premier...       pl         NaN   \n",
      "1     El Clásico na Estadi Olímpic w Eleven Sports 1 4K       pl         NaN   \n",
      "2                               Kłopotliwy czas i bajki       pl         NaN   \n",
      "3     Świat odpremiumizowany, czyli co w serialach p...       pl         NaN   \n",
      "4                         Problem z Dekoderem 4K Stream       pl         NaN   \n",
      "...                                                 ...      ...         ...   \n",
      "4791                                                NaN       pl         NaN   \n",
      "4792                                                NaN       pl         NaN   \n",
      "4793                                                NaN       pl         NaN   \n",
      "4794                                                NaN       pl         NaN   \n",
      "4795                                                NaN       pl         NaN   \n",
      "\n",
      "                                                content language.1  \\\n",
      "0     *Obowiązuje regulamin | 28,99zł/miesiąc lub 28...         pl   \n",
      "1     sezon w Disney+ [wideo] Rajd Europy Centralnej...         pl   \n",
      "2     Korzystając z dostępu do Disney+, obejrzałam w...         pl   \n",
      "3     Sytuację w serialach można podsumować krótko: ...         pl   \n",
      "4     Na Disney + i Skyshowtime zdarzają się 0,5-1 s...         pl   \n",
      "...                                                 ...        ...   \n",
      "4791  Czasem mi pomagacie z fajnym filmem na wieczór...         pl   \n",
      "4792  NEW GIRL | Disney+ | 7 sezonów https://t.co/Qf...         pl   \n",
      "4793  @Luvmymichele Idk, nie mam tiktoka od roku i w...         pl   \n",
      "4794  A oto z kolei najnowszy plakat, który jest zwi...         pl   \n",
      "4795  A z kolei już dzisiaj na platformie Disney+ po...         pl   \n",
      "\n",
      "                         host  host_traffic  ...          intent  \\\n",
      "0                   disney.pl  3.491620e+05  ...             NaN   \n",
      "1                satkurier.pl  1.724917e+06  ...       UNDEFINED   \n",
      "2     malowazne.wordpress.com  0.000000e+00  ...       UNDEFINED   \n",
      "3             screenlovers.pl  6.813000e+03  ...   INFORMATIONAL   \n",
      "4              nasz.orange.pl  4.187190e+05  ...       UNDEFINED   \n",
      "...                       ...           ...  ...             ...   \n",
      "4791              twitter.com  6.665388e+09  ...     PROMOTIONAL   \n",
      "4792              twitter.com  6.665388e+09  ...     PROMOTIONAL   \n",
      "4793              twitter.com  6.665388e+09  ...  QUESTION_QUERY   \n",
      "4794              twitter.com  6.665388e+09  ...     PROMOTIONAL   \n",
      "4795              twitter.com  6.665388e+09  ...   INFORMATIONAL   \n",
      "\n",
      "                                                 lemmas shares_count  \\\n",
      "0                                                   NaN          NaN   \n",
      "1     ['sezon', 'wideo', 'rajd', 'europa', 'centraln...          NaN   \n",
      "2     ['korzystając', 'dostęp', 'obejrzeć', 'być', '...          NaN   \n",
      "3     ['dostępny', 'krótki', 'okno', 'tańszy', 'mode...          NaN   \n",
      "4     ['skyshowtime', 'zdarzać', 'sekundowy', 'przyc...          NaN   \n",
      "...                                                 ...          ...   \n",
      "4791  ['pomagat', 'fajny', 'film', 'wieczór', 'pomóc...          0.0   \n",
      "4792                              ['sezon', 'NEW GIRL']          0.0   \n",
      "4793  ['tiktoka', 'suma', 'głownie', 'przeglądać', '...          0.0   \n",
      "4794  ['kolej', 'nowy', 'plakat', 'związać', 'nowy',...          0.0   \n",
      "4795  ['kolej', 'platforma', 'pojawić', 'różny', 'fi...          0.0   \n",
      "\n",
      "     likes_count  hashtags  comments_count emoticons  country    ave   reach  \n",
      "0            NaN       NaN             NaN       NaN      NaN  27091   57383  \n",
      "1            NaN       NaN             NaN       NaN      NaN  22267   57305  \n",
      "2            NaN       NaN             NaN       NaN      NaN   5516  117086  \n",
      "3            NaN       NaN             NaN       NaN      NaN   2475   21828  \n",
      "4            NaN       NaN             NaN       NaN      NaN  83727  237378  \n",
      "...          ...       ...             ...       ...      ...    ...     ...  \n",
      "4791         0.0        []             0.0       NaN      NaN  61252   59151  \n",
      "4792        72.0        []             1.0       NaN      NaN   6364  190476  \n",
      "4793         2.0        []             0.0       NaN      NaN  69708   58915  \n",
      "4794         0.0        []             0.0       NaN      NaN  22011  189936  \n",
      "4795         0.0        []             0.0     ['⚾']      NaN  73842  117270  \n",
      "\n",
      "[4796 rows x 22 columns]\n",
      "Unnamed: 0          int64\n",
      "created_date       object\n",
      "url                object\n",
      "title              object\n",
      "language           object\n",
      "author_name        object\n",
      "content            object\n",
      "language.1         object\n",
      "host               object\n",
      "host_traffic      float64\n",
      "emotion            object\n",
      "sentiment          object\n",
      "intent             object\n",
      "lemmas             object\n",
      "shares_count      float64\n",
      "likes_count       float64\n",
      "hashtags           object\n",
      "comments_count    float64\n",
      "emoticons          object\n",
      "country            object\n",
      "ave                 int64\n",
      "reach               int64\n",
      "dtype: object\n",
      "Unnamed: 0           0\n",
      "created_date         0\n",
      "url                  0\n",
      "title              847\n",
      "language            27\n",
      "author_name       4574\n",
      "content              0\n",
      "language.1          27\n",
      "host                 0\n",
      "host_traffic         6\n",
      "emotion            345\n",
      "sentiment          176\n",
      "intent             306\n",
      "lemmas             221\n",
      "shares_count      3302\n",
      "likes_count       3006\n",
      "hashtags          3021\n",
      "comments_count    3034\n",
      "emoticons         4681\n",
      "country           4719\n",
      "ave                  0\n",
      "reach                0\n",
      "dtype: int64\n",
      "        Unnamed: 0  host_traffic  shares_count   likes_count  comments_count  \\\n",
      "count  4796.000000  4.790000e+03   1494.000000  1.790000e+03     1762.000000   \n",
      "mean   2397.500000  3.957479e+09      2.008032  7.938927e+02        9.788309   \n",
      "std    1384.630276  6.288367e+09     55.361456  3.073181e+04      324.540712   \n",
      "min       0.000000  0.000000e+00      0.000000  0.000000e+00        0.000000   \n",
      "25%    1198.750000  7.579070e+05      0.000000  0.000000e+00        0.000000   \n",
      "50%    2397.500000  1.951523e+06      0.000000  0.000000e+00        0.000000   \n",
      "75%    3596.250000  6.665388e+09      0.000000  2.000000e+00        1.000000   \n",
      "max    4795.000000  3.542777e+10   2122.000000  1.300000e+06    13600.000000   \n",
      "\n",
      "                ave          reach  \n",
      "count   4796.000000    4796.000000  \n",
      "mean   49667.979358  130200.572769  \n",
      "std    28978.955880   74693.678023  \n",
      "min       26.000000      74.000000  \n",
      "25%    24336.750000   65825.000000  \n",
      "50%    49494.000000  129920.000000  \n",
      "75%    74676.000000  194710.750000  \n",
      "max    99979.000000  259915.000000  \n"
     ]
    }
   ],
   "source": [
    "import pandas as pd\n",
    "\n",
    "# Load the dataset\n",
    "data = pd.read_csv('disney_sample_data.csv')\n",
    "\n",
    "print(data)\n",
    "\n",
    "# Check the data types of each column\n",
    "print(data.dtypes)\n",
    "\n",
    "# Check for missing values in each column\n",
    "print(data.isnull().sum())\n",
    "\n",
    "# Explore summary statistics for numeric columns\n",
    "print(data.describe())\n"
   ]
  },
  {
   "cell_type": "code",
   "execution_count": 2,
   "id": "af4685de",
   "metadata": {},
   "outputs": [
    {
     "name": "stdout",
     "output_type": "stream",
     "text": [
      "pl    4714\n",
      "en      36\n",
      "de       4\n",
      "sr       4\n",
      "fr       2\n",
      "cs       2\n",
      "sl       1\n",
      "hu       1\n",
      "es       1\n",
      "hr       1\n",
      "it       1\n",
      "eo       1\n",
      "zh       1\n",
      "Name: language, dtype: int64\n"
     ]
    }
   ],
   "source": [
    "#1. What are the most common languages?\n",
    "\n",
    "common_languages = data['language'].value_counts()\n",
    "\n",
    "# Print the most common languages\n",
    "print(common_languages)\n"
   ]
  },
  {
   "cell_type": "code",
   "execution_count": 3,
   "id": "08d7fe5b",
   "metadata": {},
   "outputs": [
    {
     "name": "stdout",
     "output_type": "stream",
     "text": [
      "host\n",
      "instagram.com                  259915\n",
      "filmozercy.com                 259901\n",
      "samagame.com                   259819\n",
      "facebook.com                   259802\n",
      "wikingmovie.blogspot.com       259546\n",
      "                                ...  \n",
      "ogrodzieniec.naszemiasto.pl      5834\n",
      "e-jarcar.com.pl                  5585\n",
      "oiot.pl                          5577\n",
      "poznajrynek.pl                   3443\n",
      "nowytomysl.naszemiasto.pl        1548\n",
      "Name: reach, Length: 319, dtype: int64\n"
     ]
    }
   ],
   "source": [
    "#2. Which countries have the largest reach?\n",
    "\n",
    "largest_reach_hosts = data.groupby('host')['reach'].max()\n",
    "\n",
    "# Sort the hosts by reach in descending order to find the largest reach\n",
    "largest_reach_hosts = largest_reach_hosts.sort_values(ascending=False)\n",
    "\n",
    "# Print the hosts with the largest reach\n",
    "print(largest_reach_hosts)\n"
   ]
  },
  {
   "cell_type": "code",
   "execution_count": 4,
   "id": "31b344fb",
   "metadata": {},
   "outputs": [
    {
     "name": "stdout",
     "output_type": "stream",
     "text": [
      "country\n",
      "wp    3573281\n",
      "rp      88496\n",
      "Name: reach, dtype: int64\n"
     ]
    }
   ],
   "source": [
    "#2. Which countries have the largest reach?\n",
    "# Extract two-letter country codes from the 'host' column\n",
    "data['country'] = data['host'].str.extract(r'\\.([a-z]{2})\\.')\n",
    "\n",
    "# Group by country and calculate the total reach\n",
    "country_reach = data.groupby('country')['reach'].sum()\n",
    "\n",
    "# Sort the results in descending order to find the countries with the largest reach\n",
    "country_reach = country_reach.sort_values(ascending=False)\n",
    "\n",
    "# Print the countries with the largest reach\n",
    "print(country_reach)\n"
   ]
  },
  {
   "cell_type": "code",
   "execution_count": 5,
   "id": "e3d75013",
   "metadata": {
    "scrolled": true
   },
   "outputs": [
    {
     "name": "stdout",
     "output_type": "stream",
     "text": [
      "              shares_count  likes_count         ROI\n",
      "host                                               \n",
      "tiktok.com          2705.0    1368783.0  507.019593\n",
      "facebook.com          93.0       8574.0   93.193548\n",
      "twitter.com          202.0       6005.0   30.727723\n"
     ]
    },
    {
     "name": "stderr",
     "output_type": "stream",
     "text": [
      "C:\\Users\\basko\\AppData\\Local\\Temp\\ipykernel_26548\\2722683275.py:10: FutureWarning: Indexing with multiple keys (implicitly converted to a tuple of keys) will be deprecated, use a list instead.\n",
      "  source_gain = data.groupby('host')['shares_count', 'likes_count'].sum()\n"
     ]
    }
   ],
   "source": [
    "#3. Which sources provide the highest return on marketing investments?\n",
    "\n",
    "columns_to_keep = ['host', 'shares_count', 'likes_count']\n",
    "data = data[columns_to_keep]\n",
    "\n",
    "# Drop rows with missing values in 'shares_count' and 'likes_count'\n",
    "data = data.dropna(subset=['shares_count', 'likes_count'])\n",
    "\n",
    "# Calculate the total gain from each source\n",
    "source_gain = data.groupby('host')['shares_count', 'likes_count'].sum()\n",
    "\n",
    "# Calculate the ROI for each source\n",
    "source_gain['ROI'] = (source_gain['shares_count'] + source_gain['likes_count']) / source_gain['shares_count']\n",
    "\n",
    "# Rank the sources based on ROI in descending order\n",
    "source_ranked = source_gain.sort_values(by='ROI', ascending=False)\n",
    "\n",
    "# Print the sources with the highest ROI\n",
    "print(source_ranked.head(10))"
   ]
  },
  {
   "cell_type": "code",
   "execution_count": 6,
   "id": "1020b8d5",
   "metadata": {},
   "outputs": [],
   "source": [
    "# Load the dataset\n",
    "data1 = pd.read_csv('disney_sample_data (1).csv')"
   ]
  },
  {
   "cell_type": "code",
   "execution_count": 7,
   "id": "9673ce93",
   "metadata": {
    "scrolled": true
   },
   "outputs": [
    {
     "data": {
      "image/png": "[encoded data removed]",
      "text/plain": [
       "<Figure size 1200x600 with 1 Axes>"
      ]
     },
     "metadata": {},
     "output_type": "display_data"
    }
   ],
   "source": [
    "import matplotlib.pyplot as plt\n",
    "\n",
    "# Check for missing values in the 'sentiment' column and fill any missing values\n",
    "data1['sentiment'].fillna(0, inplace=True)\n",
    "\n",
    "# Define a dictionary to map values\n",
    "sentiment_mapping = {\n",
    "    'positive': 1,\n",
    "    'neutral': 0,\n",
    "    'negative': -1\n",
    "}\n",
    "\n",
    "# Replace values in the 'sentiment' column using the map\n",
    "data1['sentiment'] = data1['sentiment'].map(sentiment_mapping)\n",
    "\n",
    "# Convert the 'created_date' column to a datetime object\n",
    "data1['created_date'] = pd.to_datetime(data1['created_date'])\n",
    "\n",
    "# Group the data by date and calculate the average sentiment for each day\n",
    "sentiment_over_time = data1.groupby(data1['created_date'].dt.date)['sentiment'].mean()\n",
    "\n",
    "# Plot the sentiment chart over time\n",
    "plt.figure(figsize=(12, 6))\n",
    "plt.plot(sentiment_over_time.index, sentiment_over_time.values)\n",
    "plt.title('Sentiment Over Time')\n",
    "plt.xlabel('Date')\n",
    "plt.ylabel('Average Sentiment')\n",
    "plt.grid(True)\n",
    "\n",
    "#x_labels = ['2023-10-01', '2023-10-02', '2023-10-03']  # Custom x-axis labels\n",
    "y_ticks = [-1, 0, 1]  # Custom y-axis tick values\n",
    "\n",
    "#plt.xticks(x_labels)  # Set custom x-axis labels\n",
    "plt.yticks(y_ticks)  # Set custom y-axis tick values\n",
    "\n",
    "\n",
    "plt.show()\n"
   ]
  },
  {
   "cell_type": "code",
   "execution_count": 8,
   "id": "5d52f396",
   "metadata": {
    "scrolled": false
   },
   "outputs": [
    {
     "name": "stdout",
     "output_type": "stream",
     "text": [
      "0       NaN\n",
      "1       0.0\n",
      "2       1.0\n",
      "3       0.0\n",
      "4      -1.0\n",
      "       ... \n",
      "4791    1.0\n",
      "4792    0.0\n",
      "4793    0.0\n",
      "4794    0.0\n",
      "4795    0.0\n",
      "Name: sentiment, Length: 4796, dtype: float64\n"
     ]
    }
   ],
   "source": [
    "print(data1['sentiment'])"
   ]
  },
  {
   "cell_type": "code",
   "execution_count": 11,
   "id": "023fed1a",
   "metadata": {},
   "outputs": [
    {
     "name": "stdout",
     "output_type": "stream",
     "text": [
      "Number of NaN values in 'sentiment' column: 4796\n"
     ]
    }
   ],
   "source": [
    "# Check for NaN values in the 'sentiment' column\n",
    "nan_count = data1['sentiment'].isna().sum()\n",
    "print(\"Number of NaN values in 'sentiment' column:\", nan_count)\n"
   ]
  },
  {
   "cell_type": "code",
   "execution_count": null,
   "id": "430ff99d",
   "metadata": {},
   "outputs": [],
   "source": []
  }
 ],
 "metadata": {
  "kernelspec": {
   "display_name": "Python 3 (ipykernel)",
   "language": "python",
   "name": "python3"
  },
  "language_info": {
   "codemirror_mode": {
    "name": "ipython",
    "version": 3
   },
   "file_extension": ".py",
   "mimetype": "text/x-python",
   "name": "python",
   "nbconvert_exporter": "python",
   "pygments_lexer": "ipython3",
   "version": "3.9.16"
  }
 },
 "nbformat": 4,
 "nbformat_minor": 5
}
